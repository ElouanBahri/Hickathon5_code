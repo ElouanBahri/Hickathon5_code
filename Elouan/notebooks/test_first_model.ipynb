{
 "cells": [
  {
   "cell_type": "code",
   "execution_count": null,
   "metadata": {},
   "outputs": [],
   "source": [
    "import pandas as pd \n",
    "import numpy as np \n",
    "import tensorflow as tf\n",
    "import os\n",
    "import s3fs\n",
    "import matplotlib.pyplot as plt \n",
    "\n",
    "from tensorflow.keras.models import Sequential\n",
    "from tensorflow.keras.callbacks import ReduceLROnPlateau, ModelCheckpoint\n",
    "from tensorflow.keras.layers import Dense, GRU, Dropout, Bidirectional, BatchNormalization\n",
    "from tensorflow.keras.activations import linear, relu, sigmoid\n",
    "from tensorflow.keras.regularizers import l2\n",
    "\n",
    "from modules.utils import pre_process_data, encoded_categorical_features"
   ]
  },
  {
   "cell_type": "code",
   "execution_count": null,
   "metadata": {},
   "outputs": [],
   "source": [
    "S3_ENDPOINT_URL = \"https://\" + os.environ[\"AWS_S3_ENDPOINT\"]\n",
    "fs = s3fs.S3FileSystem(client_kwargs={'endpoint_url': S3_ENDPOINT_URL})\n",
    "BUCKET = \"ebahri-ensae\"\n",
    "FILE_KEY_S3 = \"X_test_Hi5.csv\"\n",
    "FILE_PATH_S3 = BUCKET + \"/\" + FILE_KEY_S3\n",
    "\n",
    "with fs.open(FILE_PATH_S3, mode=\"rb\") as file_in:\n",
    "    X_test = pd.read_csv(file_in, sep=\",\")"
   ]
  },
  {
   "cell_type": "code",
   "execution_count": null,
   "metadata": {},
   "outputs": [],
   "source": [
    "X_test_copy = X_test"
   ]
  },
  {
   "cell_type": "code",
   "execution_count": null,
   "metadata": {},
   "outputs": [],
   "source": [
    "X_test[\"piezo_groundwater_level_category\"] = 0\n",
    "x_test_without_nan, y_train = pre_process_data(X_test)"
   ]
  },
  {
   "cell_type": "code",
   "execution_count": null,
   "metadata": {},
   "outputs": [],
   "source": [
    "x_test_without_nan[\"insee_%_agri\"] = x_test_without_nan[\"insee_%_agri\"].replace(\n",
    "    {'N/A - division par 0': 0}  # Replace with 0 or any value you choose\n",
    ").astype(float)\n",
    "x_test_without_nan[\"insee_med_living_level\"] = x_test_without_nan[\"insee_med_living_level\"].replace(\n",
    "    {'N/A - résultat non disponible': 0}  # Replace with 0 or any value you choose\n",
    ").astype(float)\n",
    "x_test_without_nan[\"insee_%_ind\"] = x_test_without_nan[\"insee_%_ind\"].replace(\n",
    "    {'N/A - division par 0': 0}  # Replace with 0 or any value you choose\n",
    ").astype(float)\n",
    "x_test_without_nan[\"insee_%_const\"] = x_test_without_nan[\"insee_%_const\"].replace(\n",
    "    {'N/A - division par 0': 0}  # Replace with 0 or any value you choose\n",
    ").astype(float)"
   ]
  },
  {
   "cell_type": "code",
   "execution_count": null,
   "metadata": {},
   "outputs": [],
   "source": [
    "X_final = encoded_categorical_features(x_test_without_nan)"
   ]
  },
  {
   "cell_type": "code",
   "execution_count": null,
   "metadata": {},
   "outputs": [],
   "source": [
    "X_final = pd.DataFrame(X_final)\n",
    "X_final.info()\n",
    "X_final = X_final.fillna(X_final.mean())"
   ]
  },
  {
   "cell_type": "code",
   "execution_count": null,
   "metadata": {},
   "outputs": [],
   "source": [
    "import xgboost as xgb\n",
    "\n",
    "# Create an XGBClassifier instance\n",
    "loaded_model = xgb.XGBClassifier()\n",
    "\n",
    "# Load the model from a file\n",
    "loaded_model.load_model(\"models/xgboost_model_2.json\")"
   ]
  },
  {
   "cell_type": "code",
   "execution_count": null,
   "metadata": {},
   "outputs": [],
   "source": [
    "y_pred = loaded_model.predict(X_final)"
   ]
  },
  {
   "cell_type": "code",
   "execution_count": null,
   "metadata": {},
   "outputs": [],
   "source": [
    "y_pred = pd.DataFrame(y_pred)\n",
    "y_pred.head()"
   ]
  },
  {
   "cell_type": "code",
   "execution_count": null,
   "metadata": {},
   "outputs": [],
   "source": [
    "# Convert predictions to DataFrame\n",
    "\n",
    "\n",
    "# Add a row index starting from 2331796\n",
    "y_pred[\"row_index\"] = X_test_copy[\"row_index\"]\n",
    "# Define category mapping\n",
    "category_mapping = {\n",
    "    0: \"Very Low\",\n",
    "    1: \"Low\",\n",
    "    2: \"Average\",\n",
    "    3: \"High\",\n",
    "    4: \"Very High\"\n",
    "}\n",
    "\n",
    "# Map the category values\n",
    "y_pred[\"piezo_groundwater_level_category\"] = y_pred[0].map(category_mapping)\n",
    "\n",
    "# Display the final DataFrame\n",
    "y_pred = y_pred.drop(columns=[0])"
   ]
  },
  {
   "cell_type": "code",
   "execution_count": null,
   "metadata": {},
   "outputs": [],
   "source": [
    "X_final.info()"
   ]
  },
  {
   "cell_type": "code",
   "execution_count": null,
   "metadata": {},
   "outputs": [],
   "source": [
    "y_pred.info()"
   ]
  },
  {
   "cell_type": "code",
   "execution_count": null,
   "metadata": {},
   "outputs": [],
   "source": [
    "y_pred.to_csv(\"y_test_2.csv\", index=False)"
   ]
  }
 ],
 "metadata": {
  "kernelspec": {
   "display_name": "base",
   "language": "python",
   "name": "python3"
  },
  "language_info": {
   "codemirror_mode": {
    "name": "ipython",
    "version": 3
   },
   "file_extension": ".py",
   "mimetype": "text/x-python",
   "name": "python",
   "nbconvert_exporter": "python",
   "pygments_lexer": "ipython3",
   "version": "3.12.6"
  }
 },
 "nbformat": 4,
 "nbformat_minor": 2
}
